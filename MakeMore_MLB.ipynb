{
 "cells": [
  {
   "cell_type": "code",
   "execution_count": null,
   "id": "84d447c3-f35e-42ab-a56f-21425f899cab",
   "metadata": {},
   "outputs": [],
   "source": []
  },
  {
   "cell_type": "code",
   "execution_count": 1,
   "id": "e13cf269-b29b-4cd8-a2fc-600a469b2d45",
   "metadata": {},
   "outputs": [],
   "source": [
    "import torch\n",
    "import torch.nn.functional as F\n",
    "import matplotlib.pyplot as plt # for making figures\n",
    "%matplotlib inline"
   ]
  },
  {
   "cell_type": "code",
   "execution_count": 2,
   "id": "561f6b36-ad65-4639-88e7-21d0fe7fc256",
   "metadata": {},
   "outputs": [],
   "source": [
    "# Reading words\n",
    "words = [word for line in open('names.txt', 'r') for word in line.split()]"
   ]
  },
  {
   "cell_type": "code",
   "execution_count": 26,
   "id": "d0bf81eb-52a9-43d7-9aca-ef8479deaab4",
   "metadata": {},
   "outputs": [
    {
     "name": "stdout",
     "output_type": "stream",
     "text": [
      "{1: 'a', 2: 'b', 3: 'c', 4: 'd', 5: 'e', 6: 'f', 7: 'g', 8: 'h', 9: 'i', 10: 'j', 11: 'k', 12: 'l', 13: 'm', 14: 'n', 15: 'o', 16: 'p', 17: 'q', 18: 'r', 19: 's', 20: 't', 21: 'u', 22: 'v', 23: 'w', 24: 'x', 25: 'y', 26: 'z', 0: '.'}\n"
     ]
    }
   ],
   "source": [
    "# Building vocabulary of characters and mapping to and from integers\n",
    "chars = sorted(list(set(''.join(words))))\n",
    "stoi = {s:i+1 for i,s in enumerate(chars)}\n",
    "stoi['.'] = 0\n",
    "itos = {s:i for i,s in stoi.items()}\n",
    "print(itos)"
   ]
  },
  {
   "cell_type": "code",
   "execution_count": 37,
   "id": "8c108281-d0a2-4074-937c-7be787643568",
   "metadata": {},
   "outputs": [],
   "source": [
    "# Building the dataset for neural networks\n",
    "block_size = 3 # Context size -- lenght of words used in context\n",
    "X, Y = [], []\n",
    "for w in words:\n",
    "    # print(w)\n",
    "    context = [0]*block_size\n",
    "    for ch in w+'.':\n",
    "        ix = stoi[ch]\n",
    "        X.append(context)\n",
    "        Y.append(ix)\n",
    "        # print(''.join(itos[i] for i in context), '-->', itos[ix])\n",
    "        context = context[1:] + [ix]\n",
    "\n",
    "X = torch.tensor(X)\n",
    "Y = torch.tensor(Y)"
   ]
  },
  {
   "cell_type": "code",
   "execution_count": 5,
   "id": "375973f3-7a3a-4662-950b-3fa81ec3299c",
   "metadata": {},
   "outputs": [
    {
     "data": {
      "text/plain": [
       "(torch.Size([228146, 3]), torch.Size([228146]))"
      ]
     },
     "execution_count": 5,
     "metadata": {},
     "output_type": "execute_result"
    }
   ],
   "source": [
    "X.shape, Y.shape # Dataset"
   ]
  },
  {
   "cell_type": "code",
   "execution_count": 38,
   "id": "5fa6530e-6ac8-4692-bbda-c5ef57de3fed",
   "metadata": {},
   "outputs": [],
   "source": [
    "# Model definition\n",
    "n_hiddenlayer_neurons = 100\n",
    "g = torch.Generator().manual_seed(2147483647)\n",
    "space_size = 2\n",
    "\n",
    "C = torch.randn(27, space_size) #Embed 27X2\n",
    "W1 = torch.randn(6, n_hiddenlayer_neurons) #6X100\n",
    "B1 = torch.randn(n_hiddenlayer_neurons) #100\n",
    "W2 = torch.randn(n_hiddenlayer_neurons, 27) #100X27\n",
    "B2 = torch.randn(27) #27\n",
    "\n",
    "parameters = [C, W1, B1, W2, B2]\n",
    "\n",
    "for p in parameters:\n",
    "    p.requires_grad = True"
   ]
  },
  {
   "cell_type": "code",
   "execution_count": 9,
   "id": "117ffc61-ef68-43af-9046-4931316b2ad5",
   "metadata": {},
   "outputs": [
    {
     "data": {
      "text/plain": [
       "3481"
      ]
     },
     "execution_count": 9,
     "metadata": {},
     "output_type": "execute_result"
    }
   ],
   "source": [
    "sum(p.nelement() for p in parameters) # total parameters"
   ]
  },
  {
   "cell_type": "code",
   "execution_count": 47,
   "id": "57f6a372-2f5c-44a6-ae13-dc5ba6e79b26",
   "metadata": {},
   "outputs": [
    {
     "name": "stdout",
     "output_type": "stream",
     "text": [
      "tensor([62051, 54598])\n",
      "tensor([[ 0,  0,  5],\n",
      "        [ 1, 13,  9]])\n",
      "tensor([13, 12])\n",
      "tensor([[[ 0.5468, -0.4675],\n",
      "         [ 0.5468, -0.4675],\n",
      "         [ 0.1999,  0.0090]],\n",
      "\n",
      "        [[ 0.2901, -0.1115],\n",
      "         [-0.1330, -0.0022],\n",
      "         [ 0.1024,  0.1278]]], grad_fn=<IndexBackward0>)\n"
     ]
    }
   ],
   "source": [
    "ix = torch.randint(0, X.shape[0], (32,))\n",
    "print(ix)\n",
    "print(X[ix])\n",
    "print(Y[ix])\n",
    "emb = C[X[ix]]\n",
    "print(emb)"
   ]
  },
  {
   "cell_type": "code",
   "execution_count": 66,
   "id": "ab2ed9db-9ee1-4bc8-a72e-2ab33f39a2a9",
   "metadata": {},
   "outputs": [
    {
     "name": "stdout",
     "output_type": "stream",
     "text": [
      "1.9545001983642578\n"
     ]
    }
   ],
   "source": [
    "# Forward pass\n",
    "\n",
    "for iter in range(10000):\n",
    "    # Mini batch construct\n",
    "    ix = torch.randint(0, X.shape[0], (32,))\n",
    "    \n",
    "    # Forward pass\n",
    "    emb = C[X[ix]] #32 x 3 x 2\n",
    "    h = torch.tanh(emb.view(-1, 6) @ W1 + B1)\n",
    "    logits = h @ W2 + B2\n",
    "    loss = F.cross_entropy(logits, Y[ix])\n",
    "    # print(loss.item())\n",
    "    \n",
    "    # Backward pass\n",
    "    for p in parameters:\n",
    "        p.grad = None\n",
    "    loss.backward()\n",
    "\n",
    "    # Weight updation\n",
    "    lr = 0.01 # Learning rate determination and rate decay\n",
    "    for p in parameters:\n",
    "        p.data +=  -lr * p.grad\n",
    "\n",
    "print(loss.item())"
   ]
  },
  {
   "cell_type": "code",
   "execution_count": 67,
   "id": "65c1356c-2167-4236-be77-f90926c1f829",
   "metadata": {},
   "outputs": [
    {
     "name": "stdout",
     "output_type": "stream",
     "text": [
      "2.3339734077453613\n"
     ]
    }
   ],
   "source": [
    "# Loss evaluation over the full model\n",
    "\n",
    "emb = C[X]\n",
    "h = torch.tanh(emb.view(-1, 6) @ W1 + B1)\n",
    "logits = h @ W2 + B2\n",
    "loss = F.cross_entropy(logits, Y)\n",
    "print(loss.item())"
   ]
  }
 ],
 "metadata": {
  "kernelspec": {
   "display_name": "Python 3 (ipykernel)",
   "language": "python",
   "name": "python3"
  },
  "language_info": {
   "codemirror_mode": {
    "name": "ipython",
    "version": 3
   },
   "file_extension": ".py",
   "mimetype": "text/x-python",
   "name": "python",
   "nbconvert_exporter": "python",
   "pygments_lexer": "ipython3",
   "version": "3.12.3"
  }
 },
 "nbformat": 4,
 "nbformat_minor": 5
}
