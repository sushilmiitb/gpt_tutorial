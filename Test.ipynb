{
 "cells": [
  {
   "cell_type": "code",
   "execution_count": 1,
   "id": "287b35c9-3b55-4820-8f3c-f352da966695",
   "metadata": {},
   "outputs": [
    {
     "name": "stdout",
     "output_type": "stream",
     "text": [
      "Hello World\n"
     ]
    }
   ],
   "source": [
    "print (\"Hello World\")"
   ]
  },
  {
   "cell_type": "code",
   "execution_count": 21,
   "id": "7720173d-f1a6-4c43-9931-15ac2b55256f",
   "metadata": {},
   "outputs": [
    {
     "name": "stdout",
     "output_type": "stream",
     "text": [
      "<class 'str'>\n",
      "<class 'int'>\n",
      "<class 'float'>\n"
     ]
    }
   ],
   "source": [
    "collection = [\"a\", 2, 2.0]\n",
    "x, y, z = collection\n",
    "print (type(x))\n",
    "print (type(y))\n",
    "print (type(z))\n",
    "\n",
    "# print (x + y + z)"
   ]
  },
  {
   "cell_type": "code",
   "execution_count": 28,
   "id": "50acdd76-88f4-4f0c-bd88-f9309bfed467",
   "metadata": {},
   "outputs": [
    {
     "name": "stdout",
     "output_type": "stream",
     "text": [
      "inside\n",
      "inside\n"
     ]
    }
   ],
   "source": [
    "x = \"awesome\"\n",
    "\n",
    "def func():\n",
    "    global x\n",
    "    x = \"inside\"\n",
    "    print(x)\n",
    "\n",
    "func()\n",
    "print(x)"
   ]
  },
  {
   "cell_type": "code",
   "execution_count": 30,
   "id": "9f924085-02f1-401e-b3ac-a274f7216040",
   "metadata": {},
   "outputs": [
    {
     "name": "stdout",
     "output_type": "stream",
     "text": [
      "range(0, 6)\n"
     ]
    }
   ],
   "source": [
    "x = range(6)\n",
    "print(x)"
   ]
  },
  {
   "cell_type": "code",
   "execution_count": 32,
   "id": "a736910c-5466-4d48-8302-324f65b250b4",
   "metadata": {},
   "outputs": [
    {
     "name": "stdout",
     "output_type": "stream",
     "text": [
      "('apple', 'apple')\n"
     ]
    }
   ],
   "source": [
    "x = (\"apple\", \"apple\")\n",
    "print(x)"
   ]
  },
  {
   "cell_type": "code",
   "execution_count": 33,
   "id": "ecafa4eb-1dfa-4ebb-8cb5-264a7ead8144",
   "metadata": {},
   "outputs": [
    {
     "name": "stdout",
     "output_type": "stream",
     "text": [
      "b'Hello'\n"
     ]
    }
   ],
   "source": [
    "x = b\"Hello\"\n",
    "print(x)"
   ]
  },
  {
   "cell_type": "code",
   "execution_count": 34,
   "id": "35c53220-d027-4af0-be89-79d1ac1016ce",
   "metadata": {},
   "outputs": [
    {
     "name": "stdout",
     "output_type": "stream",
     "text": [
      "1\n"
     ]
    }
   ],
   "source": [
    "print(int(1.8))"
   ]
  },
  {
   "cell_type": "code",
   "execution_count": 35,
   "id": "93d466c3-0c8c-4051-aa46-c71d6c8e0a74",
   "metadata": {},
   "outputs": [
    {
     "name": "stdout",
     "output_type": "stream",
     "text": [
      "20\n"
     ]
    }
   ],
   "source": [
    "import random\n",
    "\n",
    "print(random.randrange(1,100))"
   ]
  },
  {
   "cell_type": "code",
   "execution_count": 38,
   "id": "8d192ce0-4198-4d84-b865-5ed4f6609aaf",
   "metadata": {},
   "outputs": [
    {
     "name": "stdout",
     "output_type": "stream",
     "text": [
      "1223.34\n"
     ]
    }
   ],
   "source": [
    "print(float(\"1223.34\"))"
   ]
  },
  {
   "cell_type": "code",
   "execution_count": 53,
   "id": "03aadce9-57df-41ae-8891-d3e5319d9a36",
   "metadata": {},
   "outputs": [
    {
     "name": "stdout",
     "output_type": "stream",
     "text": [
      "a\n"
     ]
    }
   ],
   "source": [
    "a = \"\"\"Once there was a ship that put to sea\n",
    "and the name of the ship was billi-o-tea\"\"\"\n",
    "print(a[36])"
   ]
  },
  {
   "cell_type": "code",
   "execution_count": 69,
   "id": "3ed4bef7-1925-4226-875e-d38b2b254b9d",
   "metadata": {},
   "outputs": [
    {
     "name": "stdout",
     "output_type": "stream",
     "text": [
      "ee\n",
      "ONE TWO THREE\n",
      "one two three\n",
      "One Two Three\n",
      "One Zwo Zhree\n",
      "['One', 'Two', 'Three']\n"
     ]
    }
   ],
   "source": [
    "text = \"One Two Three\"\n",
    "print(text[-2:])\n",
    "print(text.upper())\n",
    "print(text.lower())\n",
    "print(text.strip())\n",
    "print(text.replace(\"T\", \"Z\"))\n",
    "print(text.split(\" \"))"
   ]
  },
  {
   "cell_type": "code",
   "execution_count": 70,
   "id": "208b1399-4a09-4290-9bb5-12c93ffdae91",
   "metadata": {},
   "outputs": [
    {
     "name": "stdout",
     "output_type": "stream",
     "text": [
      "My name is Sushil and my age is 35\n"
     ]
    }
   ],
   "source": [
    "text = f\"My name is Sushil and my age is {35}\"\n",
    "print(text)"
   ]
  },
  {
   "cell_type": "code",
   "execution_count": 71,
   "id": "0760dc3a-4d18-4eb2-939f-54ffea643d62",
   "metadata": {},
   "outputs": [
    {
     "name": "stdout",
     "output_type": "stream",
     "text": [
      "True\n",
      "True\n"
     ]
    }
   ],
   "source": [
    "print(bool(\"Hello\"))\n",
    "print(bool(15))"
   ]
  },
  {
   "cell_type": "code",
   "execution_count": 76,
   "id": "a73cc539-cc87-4a5a-84f8-3abf0f0ac730",
   "metadata": {},
   "outputs": [
    {
     "name": "stdout",
     "output_type": "stream",
     "text": [
      "625\n"
     ]
    }
   ],
   "source": [
    "print(5**4)"
   ]
  },
  {
   "cell_type": "code",
   "execution_count": 80,
   "id": "ca7f428a-8500-42ec-bb3d-aa3acd705472",
   "metadata": {},
   "outputs": [
    {
     "name": "stdout",
     "output_type": "stream",
     "text": [
      "False\n"
     ]
    }
   ],
   "source": [
    "print(not True)"
   ]
  },
  {
   "cell_type": "code",
   "execution_count": 85,
   "id": "b80fd454-e7e1-4b12-9cdd-22441b71a088",
   "metadata": {},
   "outputs": [
    {
     "name": "stdout",
     "output_type": "stream",
     "text": [
      "True\n"
     ]
    }
   ],
   "source": [
    "x = [2, 3]\n",
    "y = x\n",
    "print(x is y)"
   ]
  },
  {
   "cell_type": "code",
   "execution_count": 95,
   "id": "fbdd1226-3b99-4916-86c5-401f4f4fe8f9",
   "metadata": {},
   "outputs": [
    {
     "name": "stdout",
     "output_type": "stream",
     "text": [
      "['apple', 'pineapple', 'banana', 'orange']\n"
     ]
    }
   ],
   "source": [
    "list = [\"apple\", \"banana\", \"orange\"]\n",
    "# list[0:2] = [\"pineapple\"]\n",
    "list.insert(1, \"pineapple\")\n",
    "print(list)"
   ]
  },
  {
   "cell_type": "code",
   "execution_count": 104,
   "id": "609306aa-2f70-4761-b4a9-f1481c405d4f",
   "metadata": {},
   "outputs": [
    {
     "name": "stdout",
     "output_type": "stream",
     "text": [
      "apple\n",
      "banana\n",
      "orange\n",
      "apple\n",
      "banana\n",
      "orange\n",
      "apple\n",
      "banana\n",
      "orange\n",
      "apple4\n",
      "banana4\n",
      "orange4\n"
     ]
    },
    {
     "data": {
      "text/plain": [
       "[None, None, None]"
      ]
     },
     "execution_count": 104,
     "metadata": {},
     "output_type": "execute_result"
    }
   ],
   "source": [
    "list = [\"apple\", \"banana\", \"orange\"]\n",
    "for item in list:\n",
    "    print(item)\n",
    "\n",
    "for index in range(0, len(list)):\n",
    "    print(list[index])\n",
    "\n",
    "i=0\n",
    "while i<len(list):\n",
    "    print(list[i])\n",
    "    i += 1\n",
    "\n",
    "[print(x+\"4\") for x in list]"
   ]
  },
  {
   "cell_type": "code",
   "execution_count": 111,
   "id": "e798f7ed-db0f-48b5-8f2f-38d71fd20e17",
   "metadata": {},
   "outputs": [
    {
     "name": "stdout",
     "output_type": "stream",
     "text": [
      "Mustang\n",
      "['Ford', 'Mustang', 1964]\n"
     ]
    }
   ],
   "source": [
    "thisdict = {\n",
    "  \"brand\": \"Ford\",\n",
    "  \"model\": \"Mustang\",\n",
    "  \"year\": 1964\n",
    "}\n",
    "print(thisdict[\"model\"])\n",
    "print([y for (x,y) in thisdict.items()])"
   ]
  },
  {
   "cell_type": "code",
   "execution_count": 112,
   "id": "1b2f4c72-f251-4f8d-82d8-b5bf0cc3b050",
   "metadata": {},
   "outputs": [
    {
     "name": "stdout",
     "output_type": "stream",
     "text": [
      "1\n",
      "2\n",
      "3\n",
      "4\n",
      "5\n",
      "6\n",
      "7\n",
      "8\n",
      "9\n"
     ]
    }
   ],
   "source": [
    "for x in range(1,10):\n",
    "    print(x)"
   ]
  },
  {
   "cell_type": "code",
   "execution_count": 120,
   "id": "1f5df8a0-a811-48c3-82cc-b007f9ac1ad8",
   "metadata": {},
   "outputs": [
    {
     "name": "stdout",
     "output_type": "stream",
     "text": [
      "1 --> 3\n",
      "1 --> 2\n",
      "3 --> 2\n"
     ]
    }
   ],
   "source": [
    "def towersOfHanoi(from_, to_, using_, n):\n",
    "    if n==1:\n",
    "        print(from_ + \" --> \" + to_)\n",
    "    else:\n",
    "        towersOfHanoi(from_, using_, to_, n-1)\n",
    "        towersOfHanoi(from_, to_, using_, 1)\n",
    "        towersOfHanoi(using_, to_, from_, n-1)\n",
    "\n",
    "towersOfHanoi(\"1\", \"2\", \"3\", 2)"
   ]
  },
  {
   "cell_type": "code",
   "execution_count": 125,
   "id": "0cce3f7d-73ac-40b4-a037-c0971ef10305",
   "metadata": {},
   "outputs": [
    {
     "name": "stdout",
     "output_type": "stream",
     "text": [
      "First Citizen:\n",
      "\n",
      "Before we proceed any further, hear me speak.\n",
      "\n",
      "\n",
      "\n",
      "All:\n",
      "\n",
      "Speak, speak.\n",
      "\n",
      "\n",
      "\n",
      "First Citizen:\n",
      "\n",
      "You are all resolved rather to die than to famish?\n",
      "\n",
      "\n",
      "\n",
      "All:\n",
      "\n",
      "Resolved\n"
     ]
    }
   ],
   "source": [
    "f = open(\"input.txt\", \"rt\")\n",
    "for i in range(10):\n",
    "    print(f.readline())\n",
    "print(f.read(8))\n",
    "f.close()"
   ]
  },
  {
   "cell_type": "code",
   "execution_count": 128,
   "id": "0c06d308-6b45-4b7b-b9a2-3751e0878528",
   "metadata": {},
   "outputs": [
    {
     "name": "stdout",
     "output_type": "stream",
     "text": [
      "This is line 0\n",
      "This is line 1\n",
      "This is line 2\n",
      "This is line 3\n",
      "This is line 4\n",
      "This is line 5\n",
      "This is line 6\n",
      "This is line 7\n",
      "This is line 8\n",
      "This is line 9\n",
      "\n"
     ]
    }
   ],
   "source": [
    "f = open(\"output.txt\", \"wt\")\n",
    "for i in range(10):\n",
    "    f.write(f\"This is line {i}\\n\")\n",
    "f.close()\n",
    "f = open(\"output.txt\", \"rt\")\n",
    "print(f.read())\n",
    "f.close()"
   ]
  },
  {
   "cell_type": "code",
   "execution_count": 129,
   "id": "a062edda-7fc7-4a92-b57a-a602b728cc1b",
   "metadata": {},
   "outputs": [],
   "source": [
    "import os\n",
    "os.remove(\"output.txt\")"
   ]
  },
  {
   "cell_type": "code",
   "execution_count": null,
   "id": "429a8192-aca2-468c-944a-850d4db8dc03",
   "metadata": {},
   "outputs": [],
   "source": []
  },
  {
   "cell_type": "code",
   "execution_count": null,
   "id": "4e1c74c0-3eb2-4cec-9811-c78509cb84e9",
   "metadata": {},
   "outputs": [],
   "source": []
  },
  {
   "cell_type": "code",
   "execution_count": null,
   "id": "6626f1af-6d93-4216-8179-b345a7a0ecdc",
   "metadata": {},
   "outputs": [],
   "source": []
  },
  {
   "cell_type": "code",
   "execution_count": 4,
   "id": "a72a9072-82a4-4c70-9ab3-cdef0681e802",
   "metadata": {
    "scrolled": true
   },
   "outputs": [
    {
     "name": "stdout",
     "output_type": "stream",
     "text": [
      "24.7041\n",
      "138.8338\n",
      "645.5773\n"
     ]
    }
   ],
   "source": [
    "from micrograd.engine import Value\n",
    "\n",
    "a = Value(-4.0)\n",
    "b = Value(2.0)\n",
    "c = a + b\n",
    "d = a * b + b**3\n",
    "c += c + 1\n",
    "c += 1 + c + (-a)\n",
    "d += d * 2 + (b + a).relu()\n",
    "d += 3 * d + (b - a).relu()\n",
    "e = c - d\n",
    "f = e**2\n",
    "g = f / 2.0\n",
    "g += 10.0 / f\n",
    "print(f'{g.data:.4f}') # prints 24.7041, the outcome of this forward pass\n",
    "g.backward()\n",
    "print(f'{a.grad:.4f}') # prints 138.8338, i.e. the numerical value of dg/da\n",
    "print(f'{b.grad:.4f}') # prints 645.5773, i.e. the numerical value of dg/db"
   ]
  },
  {
   "cell_type": "code",
   "execution_count": 7,
   "id": "ae44fd85-67c6-454d-ba93-c7bf34911d21",
   "metadata": {
    "scrolled": true
   },
   "outputs": [
    {
     "name": "stdout",
     "output_type": "stream",
     "text": [
      "c.data=-2.0\n",
      "d.data=0.0\n",
      "c.data=-1.0\n",
      "24.7041\n",
      "138.8338\n",
      "645.5773\n"
     ]
    }
   ],
   "source": [
    "from micrograd.engine import Value\n",
    "\n",
    "a = Value(-4.0)\n",
    "b = Value(2.0)\n",
    "c = a + b\n",
    "print(f\"c.data={c.data}\")\n",
    "d = a * b + b**3\n",
    "print(f\"d.data={d.data}\")\n",
    "c += c + 1\n",
    "c += 1 + c + (-a)\n",
    "print(f\"c.data={c.data}\")\n",
    "d += d * 2 + (b + a).relu()\n",
    "d += 3 * d + (b - a).relu()\n",
    "e = c - d\n",
    "f = e**2\n",
    "g = f / 2.0\n",
    "g += 10.0 / f\n",
    "print(f'{g.data:.4f}') # prints 24.7041, the outcome of this forward pass\n",
    "g.backward()\n",
    "print(f'{a.grad:.4f}') # prints 138.8338, i.e. the numerical value of dg/da\n",
    "print(f'{b.grad:.4f}') # prints 645.5773, i.e. the numerical value of dg/db"
   ]
  },
  {
   "cell_type": "code",
   "execution_count": 4,
   "id": "cfdb6695-74c9-405f-b89d-d895e2536bdf",
   "metadata": {},
   "outputs": [],
   "source": [
    "import math\n",
    "import numpy as np\n",
    "import matplotlib.pyplot as plt\n",
    "%matplotlib inline\n",
    "\n",
    "def f(x):\n",
    "    return 3*x**2 - 4*x +5\n"
   ]
  },
  {
   "cell_type": "code",
   "execution_count": 3,
   "id": "ff3c634d-b93f-4c94-aa44-40e6e658636c",
   "metadata": {},
   "outputs": [
    {
     "data": {
      "text/plain": [
       "20.0"
      ]
     },
     "execution_count": 3,
     "metadata": {},
     "output_type": "execute_result"
    }
   ],
   "source": [
    "f(3.0)"
   ]
  },
  {
   "cell_type": "code",
   "execution_count": 9,
   "id": "5e3195a1-1973-4fb2-ae1d-d484b7f1c2e7",
   "metadata": {},
   "outputs": [
    {
     "data": {
      "text/plain": [
       "[<matplotlib.lines.Line2D at 0x11783a810>]"
      ]
     },
     "execution_count": 9,
     "metadata": {},
     "output_type": "execute_result"
    },
    {
     "data": {
      "image/png": "[encoded data removed]",
      "text/plain": [
       "<Figure size 640x480 with 1 Axes>"
      ]
     },
     "metadata": {},
     "output_type": "display_data"
    }
   ],
   "source": [
    "xs = np.arange(-5, 5, 0.25)\n",
    "ys = f(xs)\n",
    "\n",
    "plt.plot(xs, ys)"
   ]
  },
  {
   "cell_type": "code",
   "execution_count": 22,
   "id": "c33cc772-33e7-41f3-8c59-99e28ab30961",
   "metadata": {},
   "outputs": [
    {
     "data": {
      "image/png": "[encoded data removed]",
      "text/plain": [
       "<Figure size 640x480 with 1 Axes>"
      ]
     },
     "metadata": {},
     "output_type": "display_data"
    }
   ],
   "source": [
    "import torch\n",
    "import torch.nn as nn\n",
    "\n",
    "# Define an embedding layer with 10 words and 3-dimensional embeddings\n",
    "embedding_layer = nn.Embedding(num_embeddings=1000, embedding_dim=1000)\n",
    "\n",
    "# Indices of the words you want to look up\n",
    "indices = torch.tensor(range(2))\n",
    "\n",
    "# Get the embeddings for the indices\n",
    "embeddings = embedding_layer(indices)\n",
    "# print(embedding_layer.weight)\n",
    "# print(embeddings)\n",
    "# print(embedding_layer)\n",
    "\n",
    "import math\n",
    "import numpy as np\n",
    "import matplotlib.pyplot as plt\n",
    "%matplotlib inline\n",
    "\n",
    "data = embedding_layer.weight[:,0].tolist()\n",
    "\n",
    "# Creating the histogram\n",
    "plt.hist(data, bins=30, edgecolor='black')\n",
    "\n",
    "# Adding titles and labels\n",
    "plt.title('Frequency Distribution')\n",
    "plt.xlabel('Value')\n",
    "plt.ylabel('Frequency')\n",
    "\n",
    "# Displaying the plot\n",
    "plt.show()"
   ]
  },
  {
   "cell_type": "code",
   "execution_count": 28,
   "id": "b0d5fdaf-57cd-4e71-b102-862591173bc5",
   "metadata": {},
   "outputs": [
    {
     "data": {
      "image/png": "[encoded data removed]",
      "text/plain": [
       "<Figure size 640x480 with 1 Axes>"
      ]
     },
     "metadata": {},
     "output_type": "display_data"
    }
   ],
   "source": [
    "import numpy as np\n",
    "import matplotlib.pyplot as plt\n",
    "from mpl_toolkits.mplot3d import Axes3D\n",
    "\n",
    "# Generate some random data (x, y points)\n",
    "x = np.random.normal(0, 1, 10000)\n",
    "y = np.random.normal(0, 1, 10000)\n",
    "\n",
    "# Compute the 2D histogram\n",
    "hist, xedges, yedges = np.histogram2d(x, y, bins=100, range=[[-4, 4], [-4, 4]])\n",
    "\n",
    "# Prepare plotting\n",
    "fig = plt.figure()\n",
    "ax = fig.add_subplot(111, projection='3d')\n",
    "xpos, ypos = np.meshgrid(xedges[:-1] + 0.25, yedges[:-1] + 0.25, indexing=\"ij\")\n",
    "xpos = xpos.ravel()\n",
    "ypos = ypos.ravel()\n",
    "zpos = 0\n",
    "\n",
    "# Construct arrays with the dimensions for the 16 bars.\n",
    "dx = dy = 0.5 * np.ones_like(zpos)\n",
    "dz = hist.ravel()\n",
    "\n",
    "ax.bar3d(xpos, ypos, zpos, dx, dy, dz, zsort='average')\n",
    "\n",
    "# Adding labels and title\n",
    "ax.set_xlabel('X Axis')\n",
    "ax.set_ylabel('Y Axis')\n",
    "ax.set_zlabel('Frequency')\n",
    "\n",
    "# Set title\n",
    "ax.set_title('3D Histogram of 2D Points')\n",
    "\n",
    "plt.show()\n"
   ]
  },
  {
   "cell_type": "code",
   "execution_count": 133,
   "id": "160020b8-a034-49ba-a236-5d4d4a430bce",
   "metadata": {},
   "outputs": [
    {
     "name": "stdout",
     "output_type": "stream",
     "text": [
      "[1 2 3 4]\n",
      "<class 'numpy.ndarray'>\n"
     ]
    }
   ],
   "source": [
    "import numpy as np\n",
    "\n",
    "arr = numpy.array([1,2,3,4])\n",
    "print(arr)\n",
    "print(type(arr))"
   ]
  },
  {
   "cell_type": "code",
   "execution_count": 149,
   "id": "6293d9fe-8501-47df-a6e4-f4ecaf9e4c5e",
   "metadata": {},
   "outputs": [
    {
     "name": "stdout",
     "output_type": "stream",
     "text": [
      "<class 'numpy.ndarray'>\n",
      "3\n",
      "(10, 10, 10)\n",
      "(1000,)\n"
     ]
    }
   ],
   "source": [
    "listI = []\n",
    "for i in range(10):\n",
    "    listJ = []\n",
    "    for j in range(10):\n",
    "        listK = []\n",
    "        for k in range(10):\n",
    "            listK.append(k)\n",
    "        listJ.append(listK)\n",
    "    listI.append(listJ)\n",
    "\n",
    "arr3D = np.array(listI)\n",
    "# print(arr3D)\n",
    "print(type(arr3D))\n",
    "print(arr3D.ndim)\n",
    "print(arr3D.shape)\n",
    "print(arr3D.reshape(-1).shape)"
   ]
  },
  {
   "cell_type": "code",
   "execution_count": 141,
   "id": "ea8b1ee5-9a26-4207-a811-0eeb7b9161e7",
   "metadata": {},
   "outputs": [
    {
     "name": "stdout",
     "output_type": "stream",
     "text": [
      "[[[[[1 2 3 4]]]]]\n",
      "number of dimensions : 5\n"
     ]
    }
   ],
   "source": [
    "arr = np.array([1, 2, 3, 4], ndmin=5)\n",
    "\n",
    "print(arr)\n",
    "print('number of dimensions :', arr.ndim)"
   ]
  },
  {
   "cell_type": "code",
   "execution_count": 148,
   "id": "1f555e16-fdbb-439d-a911-c3f4200245c2",
   "metadata": {},
   "outputs": [
    {
     "name": "stdout",
     "output_type": "stream",
     "text": [
      "(12,)\n",
      "(3, 2, 2)\n",
      "[[[ 0  1]\n",
      "  [ 2  3]]\n",
      "\n",
      " [[ 4  5]\n",
      "  [ 6  7]]\n",
      "\n",
      " [[ 8  9]\n",
      "  [10 11]]]\n"
     ]
    }
   ],
   "source": [
    "arr = np.array(range(12))\n",
    "print(arr.shape)\n",
    "\n",
    "reArr = arr.reshape(3,2,2)\n",
    "print(reArr.shape)\n",
    "print(reArr)"
   ]
  },
  {
   "cell_type": "code",
   "execution_count": 156,
   "id": "9befe1d9-63f0-4576-9d1a-c10f7c0b6e12",
   "metadata": {},
   "outputs": [
    {
     "name": "stdout",
     "output_type": "stream",
     "text": [
      "0123456789, 0123456789, 0123456789, 0123456789, 0123456789, 0123456789, 0123456789, 0123456789, 0123456789, 0123456789, \n",
      "\n",
      "0123456789, 0123456789, 0123456789, 0123456789, 0123456789, 0123456789, 0123456789, 0123456789, 0123456789, 0123456789, \n",
      "\n",
      "0123456789, 0123456789, 0123456789, 0123456789, 0123456789, 0123456789, 0123456789, 0123456789, 0123456789, 0123456789, \n",
      "\n",
      "0123456789, 0123456789, 0123456789, 0123456789, 0123456789, 0123456789, 0123456789, 0123456789, 0123456789, 0123456789, \n",
      "\n",
      "0123456789, 0123456789, 0123456789, 0123456789, 0123456789, 0123456789, 0123456789, 0123456789, 0123456789, 0123456789, \n",
      "\n",
      "0123456789, 0123456789, 0123456789, 0123456789, 0123456789, 0123456789, 0123456789, 0123456789, 0123456789, 0123456789, \n",
      "\n",
      "0123456789, 0123456789, 0123456789, 0123456789, 0123456789, 0123456789, 0123456789, 0123456789, 0123456789, 0123456789, \n",
      "\n",
      "0123456789, 0123456789, 0123456789, 0123456789, 0123456789, 0123456789, 0123456789, 0123456789, 0123456789, 0123456789, \n",
      "\n",
      "0123456789, 0123456789, 0123456789, 0123456789, 0123456789, 0123456789, 0123456789, 0123456789, 0123456789, 0123456789, \n",
      "\n",
      "0123456789, 0123456789, 0123456789, 0123456789, 0123456789, 0123456789, 0123456789, 0123456789, 0123456789, 0123456789, \n",
      "\n"
     ]
    }
   ],
   "source": [
    "listI = []\n",
    "for i in range(10):\n",
    "    listJ = []\n",
    "    for j in range(10):\n",
    "        listK = []\n",
    "        for k in range(10):\n",
    "            listK.append(k)\n",
    "        listJ.append(listK)\n",
    "    listI.append(listJ)\n",
    "\n",
    "arr3D = np.array(listI)\n",
    "\n",
    "for itemi in arr3D:\n",
    "    for itemj in itemi:\n",
    "        for itemk in itemj:\n",
    "            print(f\"{itemk}\", end=\"\")\n",
    "        print(\", \", end=\"\")\n",
    "    print(\"\\n\")"
   ]
  },
  {
   "cell_type": "code",
   "execution_count": 158,
   "id": "09d60847-17fd-4483-ab21-7a43687784c3",
   "metadata": {},
   "outputs": [
    {
     "name": "stdout",
     "output_type": "stream",
     "text": [
      "[[1 2]\n",
      " [3 4]\n",
      " [5 6]\n",
      " [7 8]]\n"
     ]
    }
   ],
   "source": [
    "import numpy as np\n",
    "\n",
    "arr1 = np.array([[1, 2], [3, 4]])\n",
    "arr2 = np.array([[5, 6], [7, 8]])\n",
    "arr = np.concatenate((arr1, arr2), axis=0)\n",
    "print(arr)"
   ]
  },
  {
   "cell_type": "code",
   "execution_count": 160,
   "id": "36b7be37-bf84-47cb-bede-48330817b4e8",
   "metadata": {},
   "outputs": [
    {
     "name": "stdout",
     "output_type": "stream",
     "text": [
      "[[1 2 3]\n",
      " [4 5 6]]\n"
     ]
    }
   ],
   "source": [
    "arr1 = np.array([1, 2, 3])\n",
    "arr2 = np.array([4, 5, 6])\n",
    "arr = np.stack((arr1, arr2), axis=0)\n",
    "print(arr)"
   ]
  },
  {
   "cell_type": "code",
   "execution_count": 165,
   "id": "85bb67de-8fdc-4ee0-a4de-3bfefb51b9c7",
   "metadata": {},
   "outputs": [
    {
     "name": "stdout",
     "output_type": "stream",
     "text": [
      "[array([1, 2]), array([3, 4]), array([5])]\n"
     ]
    }
   ],
   "source": [
    "arr = np.array([1, 2, 3, 4, 5])\n",
    "newarr = np.array_split(arr, 3)\n",
    "print(newarr)"
   ]
  },
  {
   "cell_type": "code",
   "execution_count": 182,
   "id": "13333b33-134a-4ffd-be35-07be64fb9171",
   "metadata": {},
   "outputs": [
    {
     "name": "stdout",
     "output_type": "stream",
     "text": [
      "[array([[ 1,  2],\n",
      "       [ 4,  5],\n",
      "       [ 7,  8],\n",
      "       [10, 11],\n",
      "       [13, 14],\n",
      "       [16, 17]]), array([[ 3],\n",
      "       [ 6],\n",
      "       [ 9],\n",
      "       [12],\n",
      "       [15],\n",
      "       [18]])]\n"
     ]
    }
   ],
   "source": [
    "arr = np.array([[1, 2, 3], [4, 5, 6], [7, 8, 9], [10, 11, 12], [13, 14, 15], [16, 17, 18]])\n",
    "newarr = np.array_split(arr, 2, 1)\n",
    "print(newarr)"
   ]
  },
  {
   "cell_type": "code",
   "execution_count": 183,
   "id": "e01722fc-265c-40c3-b6a6-35ac7bcb8de6",
   "metadata": {},
   "outputs": [
    {
     "name": "stdout",
     "output_type": "stream",
     "text": [
      "[[2 3 4]\n",
      " [0 1 5]]\n"
     ]
    }
   ],
   "source": [
    "arr = np.array([[3, 2, 4], [5, 0, 1]])\n",
    "print(np.sort(arr))"
   ]
  },
  {
   "cell_type": "code",
   "execution_count": 195,
   "id": "55dec7dc-f9d1-48c4-a7f6-a3c1f7d81d36",
   "metadata": {},
   "outputs": [
    {
     "name": "stdout",
     "output_type": "stream",
     "text": [
      "[[18 43 81 74 53 66 88  4 79 19]\n",
      " [20 58 87 39 14 26 14 39  2 22]]\n",
      "<class 'numpy.ndarray'>\n"
     ]
    }
   ],
   "source": [
    "from numpy import random\n",
    "\n",
    "x = random.randint(100, size=(2, 10))\n",
    "print(x)\n",
    "print(type(x))"
   ]
  },
  {
   "cell_type": "code",
   "execution_count": 191,
   "id": "5024f33d-d8d3-421a-b9df-82a66dc784a4",
   "metadata": {},
   "outputs": [
    {
     "name": "stdout",
     "output_type": "stream",
     "text": [
      "[[4 6]\n",
      " [6 7]]\n"
     ]
    }
   ],
   "source": [
    "arr = np.array([[1, 2, 3], [4, 5, 6], [7, 8, 9], [10, 11, 12], [13, 14, 15], [16, 17, 18]])\n",
    "arr = np.reshape(arr, 18)\n",
    "\n",
    "x = random.choice(arr, size=(2,2))\n",
    "print(x)"
   ]
  },
  {
   "cell_type": "code",
   "execution_count": 204,
   "id": "956b48ec-e2a2-4e20-ac33-8c4693261452",
   "metadata": {},
   "outputs": [
    {
     "data": {
      "image/png": "[encoded data removed]",
      "text/plain": [
       "<Figure size 640x480 with 1 Axes>"
      ]
     },
     "metadata": {},
     "output_type": "display_data"
    }
   ],
   "source": [
    "import matplotlib.pyplot as plt\n",
    "import numpy as np\n",
    "import numpy.random\n",
    "\n",
    "xpoints = random.randint(100, size=100)\n",
    "ypoints = random.randint(100, size=100)\n",
    "\n",
    "plt.scatter(xpoints, ypoints, color='g')\n",
    "plt.show()"
   ]
  },
  {
   "cell_type": "code",
   "execution_count": 211,
   "id": "f3e0c85e-1cd9-4cd9-b77e-148559b8fb87",
   "metadata": {},
   "outputs": [
    {
     "data": {
      "image/png": "[encoded data removed]",
      "text/plain": [
       "<Figure size 640x480 with 1 Axes>"
      ]
     },
     "metadata": {},
     "output_type": "display_data"
    }
   ],
   "source": [
    "import matplotlib.pyplot as plt\n",
    "import numpy as np\n",
    "import numpy.random\n",
    "\n",
    "arr = random.normal(size=100000)\n",
    "plt.hist(arr, bins=100)\n",
    "plt.show()"
   ]
  },
  {
   "cell_type": "code",
   "execution_count": 212,
   "id": "651f82db-bac3-44b9-8bd4-af89597df26b",
   "metadata": {},
   "outputs": [
    {
     "data": {
      "image/png": "[encoded data removed]",
      "text/plain": [
       "<Figure size 640x480 with 1 Axes>"
      ]
     },
     "metadata": {},
     "output_type": "display_data"
    }
   ],
   "source": [
    "import numpy as np\n",
    "import matplotlib.pyplot as plt\n",
    "\n",
    "# Step 1: Generate 1000 random values from a normal distribution\n",
    "mu = 0      # Mean\n",
    "sigma = 1   # Standard deviation\n",
    "random_values = np.random.normal(mu, sigma, 1000)\n",
    "\n",
    "# Step 2: Create and display a histogram\n",
    "plt.hist(random_values, bins=30, edgecolor='black', alpha=0.7)\n",
    "\n",
    "# Add labels and title\n",
    "plt.title('Histogram of Random Values from Normal Distribution')\n",
    "plt.xlabel('Value')\n",
    "plt.ylabel('Frequency')\n",
    "\n",
    "# Show the plot\n",
    "plt.show()\n"
   ]
  }
 ],
 "metadata": {
  "kernelspec": {
   "display_name": "Python 3 (ipykernel)",
   "language": "python",
   "name": "python3"
  },
  "language_info": {
   "codemirror_mode": {
    "name": "ipython",
    "version": 3
   },
   "file_extension": ".py",
   "mimetype": "text/x-python",
   "name": "python",
   "nbconvert_exporter": "python",
   "pygments_lexer": "ipython3",
   "version": "3.12.3"
  }
 },
 "nbformat": 4,
 "nbformat_minor": 5
}
